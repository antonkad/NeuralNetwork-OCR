{
 "cells": [
  {
   "cell_type": "code",
   "execution_count": 56,
   "metadata": {},
   "outputs": [],
   "source": [
    "import math\n",
    "import numpy as np\n",
    "import scipy.special\n",
    "import matplotlib.pyplot as plt"
   ]
  },
  {
   "cell_type": "code",
   "execution_count": 57,
   "metadata": {},
   "outputs": [],
   "source": [
    "def tanh(x): # tanh(x) = 2/(1+exp(-2x)) -1  =>  tanh(x) = 2sigmoid(2x) - 1\n",
    "    return np.tanh(x)"
   ]
  },
  {
   "cell_type": "code",
   "execution_count": 58,
   "metadata": {},
   "outputs": [],
   "source": [
    "def tanh1(x):\n",
    "    return 2 / (1 + math.exp(-2*x)) - 1"
   ]
  },
  {
   "cell_type": "code",
   "execution_count": 59,
   "metadata": {},
   "outputs": [],
   "source": [
    "def tanh2(x):\n",
    "    return (math.exp(x) - math.exp(-x)) / (math.exp(x) + math.exp(-x))"
   ]
  },
  {
   "cell_type": "code",
   "execution_count": 60,
   "metadata": {},
   "outputs": [],
   "source": [
    "def tanh3(x):\n",
    "    return (math.exp(2*x) - 1)/(math.exp(2*x) + 1)"
   ]
  },
  {
   "cell_type": "code",
   "execution_count": 61,
   "metadata": {},
   "outputs": [
    {
     "name": "stdout",
     "output_type": "stream",
     "text": [
      "Var1 :  -0.7615941559557649 -0.7615941559557649 -0.7615941559557649 -0.7615941559557649\n",
      "------------\n",
      "Var2 :  0.0 0.0 0.0 0.0\n",
      "------------\n",
      "Var3 :  0.7615941559557649 0.7615941559557646 0.7615941559557649 0.7615941559557649\n",
      "------------\n"
     ]
    }
   ],
   "source": [
    "var1 = -1 # ~-0.8 ?\n",
    "var2 = 0 # 0 ?\n",
    "var3 = 1 # ~0.8 ?\n",
    "\n",
    "print(\"Var1 : \",tanh(var1), tanh1(var1), tanh2(var1), tanh3(var1) )\n",
    "print(\"------------\")\n",
    "print(\"Var2 : \",tanh(var2), tanh1(var2), tanh2(var2), tanh3(var2) )\n",
    "print(\"------------\")\n",
    "print(\"Var3 : \",tanh(var3), tanh1(var3), tanh2(var3), tanh3(var3) )\n",
    "print(\"------------\")"
   ]
  },
  {
   "cell_type": "code",
   "execution_count": 62,
   "metadata": {},
   "outputs": [],
   "source": [
    "def drelu(x):\n",
    "    if (x > 0):\n",
    "        return 1\n",
    "    if (x <= 0):\n",
    "        return 0"
   ]
  },
  {
   "cell_type": "code",
   "execution_count": 63,
   "metadata": {},
   "outputs": [],
   "source": [
    "def drelu1(x):\n",
    "    return (x > 0)"
   ]
  },
  {
   "cell_type": "code",
   "execution_count": 64,
   "metadata": {},
   "outputs": [
    {
     "name": "stdout",
     "output_type": "stream",
     "text": [
      "Var1 :  0 False\n",
      "Var1 :  1 True\n"
     ]
    }
   ],
   "source": [
    "print(\"Var1 : \",drelu(var1), drelu1(var1))\n",
    "print(\"Var1 : \",drelu(4), drelu1(4))"
   ]
  },
  {
   "cell_type": "code",
   "execution_count": 65,
   "metadata": {},
   "outputs": [],
   "source": [
    "# Sigmoid, special case of the logistic function (0,1)\n",
    "def sigmoid(x): # sigmoid(x) = 1/(1+exp(-x))\n",
    "    return scipy.special.expit(x)\n",
    "def sigmoid_deriv(x):\n",
    "    return sigmoid(x)*(1 - sigmoid(x))\n",
    "\n",
    "# Gradiant stronger than sigmoid (-1,1)\n",
    "def tanh(x): # tanh(x) = 2/(1+exp(-2x)) -1  =>  tanh(x) = 2sigmoid(2x) - 1\n",
    "    return np.tanh(x)\n",
    "def tanh_deriv(x):\n",
    "    return 1.0 - np.tanh(x)**2\n",
    "\n",
    "# less computationally expensive (0,inf)\n",
    "def relu(x):\n",
    "    return np.maximum(x, 0)\n",
    "def relu_deriv(x):\n",
    "    return 1 * (x > 0)"
   ]
  },
  {
   "cell_type": "code",
   "execution_count": 66,
   "metadata": {},
   "outputs": [
    {
     "name": "stdout",
     "output_type": "stream",
     "text": [
      "[[ 0.16888336 -0.75959144 -0.19974626  0.25768781]\n",
      " [ 0.60034232  0.53105933 -0.78327324 -0.36257736]\n",
      " [-0.03369006  0.37625907 -0.25579076  0.29413852]]\n"
     ]
    }
   ],
   "source": [
    "inodes = 4\n",
    "hnodes = 3\n",
    "\n",
    "wih = numpy.random.normal(0.0, pow(inodes, -0.5), (hnodes, inodes))\n",
    "print(wih)"
   ]
  },
  {
   "cell_type": "code",
   "execution_count": 78,
   "metadata": {},
   "outputs": [
    {
     "name": "stdout",
     "output_type": "stream",
     "text": [
      "[[0.54212077 0.31873498 0.45022881 0.56406782]\n",
      " [0.64573462 0.62973015 0.31361486 0.4103358 ]\n",
      " [0.49157828 0.59297052 0.43639871 0.57300901]]\n",
      "------------\n",
      "[[0.24822584 0.21714299 0.24752283 0.24589531]\n",
      " [0.22876142 0.23317009 0.21526058 0.24196033]\n",
      " [0.24992907 0.24135648 0.24595488 0.24466968]]\n"
     ]
    },
    {
     "data": {
      "image/png": "[encoded data removed]",
      "text/plain": [
       "<matplotlib.figure.Figure at 0x20162d10828>"
      ]
     },
     "metadata": {},
     "output_type": "display_data"
    }
   ],
   "source": [
    "print(sigmoid(wih))\n",
    "print(\"------------\")\n",
    "print(sigmoid_deriv(wih))\n",
    "\n",
    "plt.plot(wih,sigmoid(wih),'ro', wih, sigmoid_deriv(wih), 'bs');\n",
    "plt.show()"
   ]
  },
  {
   "cell_type": "code",
   "execution_count": 77,
   "metadata": {},
   "outputs": [
    {
     "name": "stdout",
     "output_type": "stream",
     "text": [
      "[[ 0.16729586 -0.64083625 -0.19713146  0.25213159]\n",
      " [ 0.53729311  0.48619043 -0.65458145 -0.34748222]\n",
      " [-0.03367732  0.35945428 -0.2503543   0.28593944]]\n",
      "------------\n",
      "[[0.9720121  0.5893289  0.96113919 0.93642966]\n",
      " [0.71131612 0.76361887 0.57152313 0.8792561 ]\n",
      " [0.99886584 0.87079262 0.93732273 0.91823864]]\n"
     ]
    },
    {
     "data": {
      "image/png": "[encoded data removed]",
      "text/plain": [
       "<matplotlib.figure.Figure at 0x20162ca12b0>"
      ]
     },
     "metadata": {},
     "output_type": "display_data"
    }
   ],
   "source": [
    "print(tanh(wih))\n",
    "print(\"------------\")\n",
    "print(tanh_deriv(wih))\n",
    "\n",
    "plt.plot(wih,tanh(wih),'ro', wih, tanh_deriv(wih), 'bs');\n",
    "plt.show()"
   ]
  },
  {
   "cell_type": "code",
   "execution_count": 76,
   "metadata": {},
   "outputs": [
    {
     "name": "stdout",
     "output_type": "stream",
     "text": [
      "[[0.16888336 0.         0.         0.25768781]\n",
      " [0.60034232 0.53105933 0.         0.        ]\n",
      " [0.         0.37625907 0.         0.29413852]]\n",
      "------------\n",
      "[[1 0 0 1]\n",
      " [1 1 0 0]\n",
      " [0 1 0 1]]\n"
     ]
    },
    {
     "data": {
      "image/png": "[encoded data removed]",
      "text/plain": [
       "<matplotlib.figure.Figure at 0x20162c11080>"
      ]
     },
     "metadata": {},
     "output_type": "display_data"
    }
   ],
   "source": [
    "print(relu(wih))\n",
    "print(\"------------\")\n",
    "print(relu_deriv(wih))\n",
    "\n",
    "plt.plot(wih,relu(wih),'ro', wih, relu_deriv(wih), 'bs');\n",
    "plt.show()"
   ]
  },
  {
   "cell_type": "code",
   "execution_count": null,
   "metadata": {},
   "outputs": [],
   "source": []
  }
 ],
 "metadata": {
  "kernelspec": {
   "display_name": "Python 3",
   "language": "python",
   "name": "python3"
  },
  "language_info": {
   "codemirror_mode": {
    "name": "ipython",
    "version": 3
   },
   "file_extension": ".py",
   "mimetype": "text/x-python",
   "name": "python",
   "nbconvert_exporter": "python",
   "pygments_lexer": "ipython3",
   "version": "3.6.4"
  }
 },
 "nbformat": 4,
 "nbformat_minor": 2
}
